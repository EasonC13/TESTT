{
 "cells": [
  {
   "cell_type": "code",
   "execution_count": 2,
   "metadata": {
    "ExecuteTime": {
     "end_time": "2020-08-04T15:36:27.839349Z",
     "start_time": "2020-08-04T15:36:27.834009Z"
    }
   },
   "outputs": [],
   "source": [
    "#input()"
   ]
  },
  {
   "cell_type": "code",
   "execution_count": null,
   "metadata": {
    "ExecuteTime": {
     "end_time": "2020-08-04T15:36:24.997937Z",
     "start_time": "2020-08-04T15:36:21.746Z"
    }
   },
   "outputs": [],
   "source": [
    "print(\"Hello World\")"
   ]
  },
  {
   "cell_type": "markdown",
   "metadata": {
    "colab_type": "text",
    "id": "GTYHclDyw7aV"
   },
   "source": [
    "# Python 教學"
   ]
  },
  {
   "cell_type": "markdown",
   "metadata": {
    "colab_type": "text",
    "id": "ZvSz9bbXxstW"
   },
   "source": [
    "## 打印輸出（說話）\n",
    "\n",
    "```\n",
    "print(\"你要說的話\")\n",
    "```"
   ]
  },
  {
   "cell_type": "code",
   "execution_count": null,
   "metadata": {
    "ExecuteTime": {
     "end_time": "2020-08-04T15:36:24.998387Z",
     "start_time": "2020-08-04T15:36:21.753Z"
    },
    "colab": {},
    "colab_type": "code",
    "id": "R8_lEUe6w7aW",
    "outputId": "daff3dfd-166c-4ec5-a9a4-61c09d3776f6"
   },
   "outputs": [],
   "source": [
    "print(\"Hello World\")"
   ]
  },
  {
   "cell_type": "markdown",
   "metadata": {
    "colab_type": "text",
    "id": "yXPXObB2x8nP"
   },
   "source": [
    "換你試試看<br>\n",
    "打印說出一段話"
   ]
  },
  {
   "cell_type": "code",
   "execution_count": null,
   "metadata": {},
   "outputs": [],
   "source": []
  },
  {
   "cell_type": "markdown",
   "metadata": {
    "colab_type": "text",
    "id": "nZDYFYw7w7ab"
   },
   "source": [
    "## 變數介紹"
   ]
  },
  {
   "cell_type": "markdown",
   "metadata": {
    "colab_type": "text",
    "id": "SbMnai6OyQTs"
   },
   "source": [
    "宣告一個變數名稱為 x，值為 1 "
   ]
  },
  {
   "cell_type": "code",
   "execution_count": null,
   "metadata": {
    "ExecuteTime": {
     "end_time": "2020-08-04T15:36:24.998828Z",
     "start_time": "2020-08-04T15:36:21.765Z"
    },
    "colab": {},
    "colab_type": "code",
    "id": "Egx5kC5zyL9R"
   },
   "outputs": [],
   "source": [
    "x = 1"
   ]
  },
  {
   "cell_type": "markdown",
   "metadata": {},
   "source": [
    "把 x 打印出來"
   ]
  },
  {
   "cell_type": "code",
   "execution_count": null,
   "metadata": {
    "ExecuteTime": {
     "end_time": "2020-08-04T15:36:24.999330Z",
     "start_time": "2020-08-04T15:36:21.772Z"
    },
    "scrolled": true
   },
   "outputs": [],
   "source": [
    "print(x)"
   ]
  },
  {
   "cell_type": "markdown",
   "metadata": {},
   "source": [
    "變數裡面可以是任意內容"
   ]
  },
  {
   "cell_type": "code",
   "execution_count": null,
   "metadata": {
    "ExecuteTime": {
     "end_time": "2020-08-04T15:36:24.999767Z",
     "start_time": "2020-08-04T15:36:21.775Z"
    }
   },
   "outputs": [],
   "source": [
    "x = \"一串字串\""
   ]
  },
  {
   "cell_type": "markdown",
   "metadata": {},
   "source": [
    "變數名稱通常代表該變數的內容"
   ]
  },
  {
   "cell_type": "code",
   "execution_count": null,
   "metadata": {
    "ExecuteTime": {
     "end_time": "2020-08-04T15:36:25.000200Z",
     "start_time": "2020-08-04T15:36:21.778Z"
    }
   },
   "outputs": [],
   "source": [
    "schoolName = \"靜心高中\"\n",
    "clubName = \"台青社\""
   ]
  },
  {
   "cell_type": "markdown",
   "metadata": {
    "ExecuteTime": {
     "end_time": "2020-08-04T12:08:19.165460Z",
     "start_time": "2020-08-04T12:08:19.159665Z"
    }
   },
   "source": [
    "關於變數命名，**沒有對錯**，但是...\n",
    "<br>\n",
    "<img src=\"https://i.imgur.com/2XhUvCF.jpg\" width=\"400\" height=\"400\" style=\"float:left;\"/>"
   ]
  },
  {
   "cell_type": "code",
   "execution_count": null,
   "metadata": {
    "ExecuteTime": {
     "end_time": "2020-08-04T15:36:25.000634Z",
     "start_time": "2020-08-04T15:36:21.782Z"
    }
   },
   "outputs": [],
   "source": [
    "#這樣別人看不懂\n",
    "a = \"靜心高中\"\n",
    "b = \"台青社\""
   ]
  },
  {
   "cell_type": "code",
   "execution_count": null,
   "metadata": {
    "ExecuteTime": {
     "end_time": "2020-08-04T15:36:25.001248Z",
     "start_time": "2020-08-04T15:36:21.786Z"
    }
   },
   "outputs": [],
   "source": [
    "#這樣比較好懂\n",
    "schoolName = \"靜心高中\"\n",
    "clubName = \"台青社\"\n",
    "\n",
    "#或這樣\n",
    "school_name = \"靜心高中\"\n",
    "club_name = \"台青社\""
   ]
  },
  {
   "cell_type": "markdown",
   "metadata": {
    "colab": {},
    "colab_type": "code",
    "id": "mcjOt9BzyaSH"
   },
   "source": [
    "上面兩種，是專家常用的變數命名流派"
   ]
  },
  {
   "cell_type": "markdown",
   "metadata": {
    "colab_type": "text",
    "id": "_g0IF7Uzw7ac"
   },
   "source": [
    "# 資料型態\n",
    "## 字串"
   ]
  },
  {
   "cell_type": "code",
   "execution_count": null,
   "metadata": {
    "ExecuteTime": {
     "end_time": "2020-08-04T15:36:25.001837Z",
     "start_time": "2020-08-04T15:36:21.790Z"
    }
   },
   "outputs": [],
   "source": [
    "#這是字串\n",
    "\"今天天氣真好\""
   ]
  },
  {
   "cell_type": "markdown",
   "metadata": {
    "colab_type": "text",
    "id": "E4ncg6TNw7ad"
   },
   "source": [
    "### 字串處理"
   ]
  },
  {
   "cell_type": "code",
   "execution_count": null,
   "metadata": {
    "ExecuteTime": {
     "end_time": "2020-08-04T15:36:25.002404Z",
     "start_time": "2020-08-04T15:36:21.794Z"
    }
   },
   "outputs": [],
   "source": [
    "# 字串相加\n",
    "\"台青社\"+\"南波萬\""
   ]
  },
  {
   "cell_type": "code",
   "execution_count": null,
   "metadata": {},
   "outputs": [],
   "source": []
  },
  {
   "cell_type": "code",
   "execution_count": null,
   "metadata": {},
   "outputs": [],
   "source": []
  },
  {
   "cell_type": "markdown",
   "metadata": {},
   "source": [
    "### 取代 \n",
    "取代全部符合的內容片段為另一個"
   ]
  },
  {
   "cell_type": "code",
   "execution_count": null,
   "metadata": {
    "ExecuteTime": {
     "end_time": "2020-08-04T15:36:25.002937Z",
     "start_time": "2020-08-04T15:36:21.806Z"
    }
   },
   "outputs": [],
   "source": [
    "#取代\n",
    "\"Python 好可愛\".replace(\"可愛\", \"有趣\")"
   ]
  },
  {
   "cell_type": "code",
   "execution_count": null,
   "metadata": {
    "ExecuteTime": {
     "end_time": "2020-08-04T15:36:25.003443Z",
     "start_time": "2020-08-04T15:36:21.809Z"
    }
   },
   "outputs": [],
   "source": [
    "#猜猜看，再試試看\n",
    "# \"今天天氣真好\".replace(\"天\", \"月\")"
   ]
  },
  {
   "cell_type": "code",
   "execution_count": null,
   "metadata": {
    "ExecuteTime": {
     "end_time": "2020-08-04T15:36:25.004064Z",
     "start_time": "2020-08-04T15:36:21.812Z"
    }
   },
   "outputs": [],
   "source": [
    "#換你試試看\n"
   ]
  },
  {
   "cell_type": "code",
   "execution_count": null,
   "metadata": {},
   "outputs": [],
   "source": []
  },
  {
   "cell_type": "markdown",
   "metadata": {},
   "source": [
    "### 多行字串\n",
    "可以使用三個引號來製作<br>\n",
    "中間會使用「\\n」分隔<br>\n",
    "打印時「\\n」會變成換行<br>"
   ]
  },
  {
   "cell_type": "code",
   "execution_count": null,
   "metadata": {
    "ExecuteTime": {
     "end_time": "2020-08-04T15:36:25.004623Z",
     "start_time": "2020-08-04T15:36:21.818Z"
    }
   },
   "outputs": [],
   "source": [
    "string = \"\"\"\n",
    "這是第一行\n",
    "這是第二行\n",
    "這是第三行\"\"\""
   ]
  },
  {
   "cell_type": "code",
   "execution_count": null,
   "metadata": {
    "ExecuteTime": {
     "end_time": "2020-08-04T15:36:25.005177Z",
     "start_time": "2020-08-04T15:36:21.820Z"
    }
   },
   "outputs": [],
   "source": [
    "string"
   ]
  },
  {
   "cell_type": "code",
   "execution_count": null,
   "metadata": {
    "ExecuteTime": {
     "end_time": "2020-08-04T15:36:25.005645Z",
     "start_time": "2020-08-04T15:36:21.824Z"
    },
    "scrolled": true
   },
   "outputs": [],
   "source": [
    "print(string)"
   ]
  },
  {
   "cell_type": "markdown",
   "metadata": {
    "colab_type": "text",
    "id": "TcKp1o30w7ac"
   },
   "source": [
    "## 輸入\n",
    "相當於 Scratch 的問問題"
   ]
  },
  {
   "cell_type": "code",
   "execution_count": null,
   "metadata": {
    "ExecuteTime": {
     "end_time": "2020-08-04T15:36:25.006175Z",
     "start_time": "2020-08-04T15:36:21.828Z"
    },
    "scrolled": true
   },
   "outputs": [],
   "source": [
    "input(\"你的幸運數字？>> \")"
   ]
  },
  {
   "cell_type": "markdown",
   "metadata": {},
   "source": [
    "要將結果存起來，需要用到變數"
   ]
  },
  {
   "cell_type": "code",
   "execution_count": null,
   "metadata": {
    "ExecuteTime": {
     "end_time": "2020-08-04T15:36:25.006656Z",
     "start_time": "2020-08-04T15:36:21.831Z"
    }
   },
   "outputs": [],
   "source": [
    "luckyNum = input(\"你的幸運數字？>> \")\n",
    "print(luckyNum)"
   ]
  },
  {
   "cell_type": "markdown",
   "metadata": {},
   "source": [
    "## 實戰應用 內容產生器"
   ]
  },
  {
   "cell_type": "code",
   "execution_count": null,
   "metadata": {
    "ExecuteTime": {
     "end_time": "2020-08-04T15:36:25.007220Z",
     "start_time": "2020-08-04T15:36:21.835Z"
    }
   },
   "outputs": [],
   "source": [
    "output = \"\"\"\n",
    "{語言}是最厲害的程式語言，\n",
    "{語言}寫法既簡單又可愛，\n",
    "{語言}超強！！\"\"\"\n",
    "most_love_language = input(\"你最喜歡什麼語言？ \")\n",
    "print(output.replace(\"{語言}\", most_love_language))"
   ]
  },
  {
   "cell_type": "code",
   "execution_count": null,
   "metadata": {
    "ExecuteTime": {
     "end_time": "2020-08-04T15:36:25.007778Z",
     "start_time": "2020-08-04T15:36:21.838Z"
    }
   },
   "outputs": [],
   "source": [
    "output"
   ]
  },
  {
   "cell_type": "markdown",
   "metadata": {},
   "source": [
    "# 自由發揮時間：\n",
    "參考上面的程式碼<br>\n",
    "打造一個最好笑的內容產生器吧！(3 min)<br><br>\n",
    "（這個時段中，如果有問題想問，不知道想做的功能怎麼做，歡迎舉手問老師）\n",
    "<br>"
   ]
  },
  {
   "cell_type": "code",
   "execution_count": null,
   "metadata": {},
   "outputs": [],
   "source": []
  },
  {
   "cell_type": "code",
   "execution_count": null,
   "metadata": {},
   "outputs": [],
   "source": []
  },
  {
   "cell_type": "markdown",
   "metadata": {},
   "source": [
    "---\n",
    "# 其他資料型態介紹"
   ]
  },
  {
   "cell_type": "markdown",
   "metadata": {
    "colab_type": "text",
    "id": "QxaRQJzCw7ad"
   },
   "source": [
    "## 整數\n",
    "「整數」英文名稱為 integer，縮寫為 int<br>\n",
    "「沒有小數點」的數字<br>\n",
    "\n",
    "可以透過 ```type()``` 來檢查型態"
   ]
  },
  {
   "cell_type": "code",
   "execution_count": null,
   "metadata": {
    "ExecuteTime": {
     "end_time": "2020-08-04T15:36:25.008357Z",
     "start_time": "2020-08-04T15:36:21.850Z"
    }
   },
   "outputs": [],
   "source": [
    "type(1)"
   ]
  },
  {
   "cell_type": "code",
   "execution_count": null,
   "metadata": {
    "ExecuteTime": {
     "end_time": "2020-08-04T15:36:25.008920Z",
     "start_time": "2020-08-04T15:36:21.852Z"
    }
   },
   "outputs": [],
   "source": [
    "type(2)"
   ]
  },
  {
   "cell_type": "code",
   "execution_count": null,
   "metadata": {
    "ExecuteTime": {
     "end_time": "2020-08-04T15:36:25.009494Z",
     "start_time": "2020-08-04T15:36:21.855Z"
    }
   },
   "outputs": [],
   "source": [
    "3, 0, -1, -2, -3"
   ]
  },
  {
   "cell_type": "markdown",
   "metadata": {
    "colab_type": "text",
    "id": "VIgZIk1lw7ae"
   },
   "source": [
    "## 浮點數\n",
    "「浮點數」英文名稱為 floating point，縮寫為 float<br>\n",
    "「有小數點」的數字<br>\n",
    "包含小數與分數<br>"
   ]
  },
  {
   "cell_type": "code",
   "execution_count": null,
   "metadata": {
    "ExecuteTime": {
     "end_time": "2020-08-04T15:36:25.010056Z",
     "start_time": "2020-08-04T15:36:21.859Z"
    }
   },
   "outputs": [],
   "source": [
    "type(1.5)"
   ]
  },
  {
   "cell_type": "code",
   "execution_count": null,
   "metadata": {
    "ExecuteTime": {
     "end_time": "2020-08-04T15:36:25.010593Z",
     "start_time": "2020-08-04T15:36:21.862Z"
    }
   },
   "outputs": [],
   "source": [
    "type(1/5)"
   ]
  },
  {
   "cell_type": "markdown",
   "metadata": {},
   "source": [
    "* Float 也有 浮的意思\n",
    "* The ball floats on the water.\n",
    "* 球浮在水面上\n",
    "\n",
    "<img src=\"https://www.yourdictionary.com/images/definitions/lg/4652.float.jpg\" width=\"400\" height=\"400\" style=\"float:left;\"/>"
   ]
  },
  {
   "cell_type": "markdown",
   "metadata": {},
   "source": [
    "### 考考你：尋找錯誤"
   ]
  },
  {
   "cell_type": "code",
   "execution_count": null,
   "metadata": {
    "ExecuteTime": {
     "end_time": "2020-08-04T15:36:25.011149Z",
     "start_time": "2020-08-04T15:36:21.867Z"
    }
   },
   "outputs": [],
   "source": [
    "lucky_number = input(\"幸運數字>> \")\n",
    "out = lucky_number + 87\n",
    "print(\"你的幸運數字加上 87 後是\" + out)"
   ]
  },
  {
   "cell_type": "markdown",
   "metadata": {},
   "source": [
    "# 資料型態變換\n",
    "電腦很笨，只能做你要他做的東西<br>\n",
    "要轉換為相同的型態，才可以做操作"
   ]
  },
  {
   "cell_type": "code",
   "execution_count": null,
   "metadata": {
    "ExecuteTime": {
     "end_time": "2020-08-04T15:36:25.011669Z",
     "start_time": "2020-08-04T15:36:21.872Z"
    },
    "scrolled": true
   },
   "outputs": [],
   "source": [
    "int(\"123\")"
   ]
  },
  {
   "cell_type": "code",
   "execution_count": null,
   "metadata": {
    "ExecuteTime": {
     "end_time": "2020-08-04T15:36:25.012235Z",
     "start_time": "2020-08-04T15:36:21.875Z"
    }
   },
   "outputs": [],
   "source": [
    "str(123.456)"
   ]
  },
  {
   "cell_type": "code",
   "execution_count": null,
   "metadata": {
    "ExecuteTime": {
     "end_time": "2020-08-04T15:36:25.012796Z",
     "start_time": "2020-08-04T15:36:21.877Z"
    }
   },
   "outputs": [],
   "source": [
    "float(1)"
   ]
  },
  {
   "cell_type": "markdown",
   "metadata": {},
   "source": [
    "任何型態，對應自己，會回傳自己"
   ]
  },
  {
   "cell_type": "code",
   "execution_count": null,
   "metadata": {
    "ExecuteTime": {
     "end_time": "2020-08-04T15:36:25.013342Z",
     "start_time": "2020-08-04T15:36:21.882Z"
    }
   },
   "outputs": [],
   "source": [
    "int(1)"
   ]
  },
  {
   "cell_type": "code",
   "execution_count": null,
   "metadata": {
    "ExecuteTime": {
     "end_time": "2020-08-04T15:36:25.013893Z",
     "start_time": "2020-08-04T15:36:21.884Z"
    }
   },
   "outputs": [],
   "source": [
    "str(\"帥\")"
   ]
  },
  {
   "cell_type": "code",
   "execution_count": null,
   "metadata": {
    "ExecuteTime": {
     "end_time": "2020-08-04T15:36:25.014387Z",
     "start_time": "2020-08-04T15:36:21.887Z"
    }
   },
   "outputs": [],
   "source": [
    "float(3.14)"
   ]
  },
  {
   "cell_type": "markdown",
   "metadata": {
    "colab_type": "text",
    "id": "4r6hS6A5w7af"
   },
   "source": [
    "## 布林值\n",
    "「布林值」英文名稱為 boolean，縮寫為 bool\n",
    "- 只有「True」和「False」\n",
    " - True：\t對，有東西，非 0 數字\n",
    " - False：\t錯誤，沒東西，0"
   ]
  },
  {
   "cell_type": "code",
   "execution_count": null,
   "metadata": {
    "ExecuteTime": {
     "end_time": "2020-08-04T15:36:25.014857Z",
     "start_time": "2020-08-04T15:36:21.890Z"
    }
   },
   "outputs": [],
   "source": [
    "bool(1)"
   ]
  },
  {
   "cell_type": "code",
   "execution_count": null,
   "metadata": {
    "ExecuteTime": {
     "end_time": "2020-08-04T15:36:25.015476Z",
     "start_time": "2020-08-04T15:36:21.892Z"
    }
   },
   "outputs": [],
   "source": [
    "bool(0)"
   ]
  },
  {
   "cell_type": "code",
   "execution_count": null,
   "metadata": {
    "ExecuteTime": {
     "end_time": "2020-08-04T15:36:25.016059Z",
     "start_time": "2020-08-04T15:36:21.895Z"
    }
   },
   "outputs": [],
   "source": [
    "bool(\"\")"
   ]
  },
  {
   "cell_type": "code",
   "execution_count": null,
   "metadata": {
    "ExecuteTime": {
     "end_time": "2020-08-04T15:36:25.016653Z",
     "start_time": "2020-08-04T15:36:21.898Z"
    }
   },
   "outputs": [],
   "source": [
    "bool(\"YEE\")"
   ]
  },
  {
   "cell_type": "code",
   "execution_count": null,
   "metadata": {
    "ExecuteTime": {
     "end_time": "2020-08-04T15:36:25.017237Z",
     "start_time": "2020-08-04T15:36:21.901Z"
    }
   },
   "outputs": [],
   "source": [
    "bool(\"False\")"
   ]
  },
  {
   "cell_type": "markdown",
   "metadata": {},
   "source": [
    "布林值 對應自已，同樣會回傳自己"
   ]
  },
  {
   "cell_type": "code",
   "execution_count": null,
   "metadata": {
    "ExecuteTime": {
     "end_time": "2020-08-04T15:36:25.017722Z",
     "start_time": "2020-08-04T15:36:21.904Z"
    }
   },
   "outputs": [],
   "source": [
    "bool(True)"
   ]
  },
  {
   "cell_type": "code",
   "execution_count": null,
   "metadata": {
    "ExecuteTime": {
     "end_time": "2020-08-04T15:36:25.018227Z",
     "start_time": "2020-08-04T15:36:21.906Z"
    }
   },
   "outputs": [],
   "source": [
    "bool(False)"
   ]
  },
  {
   "cell_type": "markdown",
   "metadata": {},
   "source": [
    "考考你：下面這個會回傳什麼？\n",
    "\n",
    "```\n",
    "bool(\"False\")\n",
    "```"
   ]
  },
  {
   "cell_type": "code",
   "execution_count": null,
   "metadata": {},
   "outputs": [],
   "source": []
  },
  {
   "cell_type": "markdown",
   "metadata": {},
   "source": [
    "# 邏輯運算子"
   ]
  },
  {
   "attachments": {},
   "cell_type": "markdown",
   "metadata": {},
   "source": [
    "<img src=\"https://i.imgur.com/UVjfP0J.png\" width=\"400\" height=\"400\" style=\"float:left;\"/>"
   ]
  },
  {
   "cell_type": "code",
   "execution_count": null,
   "metadata": {
    "ExecuteTime": {
     "end_time": "2020-08-04T15:36:25.018781Z",
     "start_time": "2020-08-04T15:36:21.914Z"
    }
   },
   "outputs": [],
   "source": [
    "1 == 1"
   ]
  },
  {
   "cell_type": "code",
   "execution_count": null,
   "metadata": {
    "ExecuteTime": {
     "end_time": "2020-08-04T15:36:25.019317Z",
     "start_time": "2020-08-04T15:36:21.918Z"
    }
   },
   "outputs": [],
   "source": [
    "0 == 1"
   ]
  },
  {
   "cell_type": "code",
   "execution_count": null,
   "metadata": {
    "ExecuteTime": {
     "end_time": "2020-08-04T15:36:25.020821Z",
     "start_time": "2020-08-04T15:36:21.921Z"
    }
   },
   "outputs": [],
   "source": [
    "1 != 1"
   ]
  },
  {
   "cell_type": "code",
   "execution_count": null,
   "metadata": {
    "ExecuteTime": {
     "end_time": "2020-08-04T15:36:25.021331Z",
     "start_time": "2020-08-04T15:36:21.923Z"
    }
   },
   "outputs": [],
   "source": [
    "0 != 1"
   ]
  },
  {
   "cell_type": "code",
   "execution_count": null,
   "metadata": {
    "ExecuteTime": {
     "end_time": "2020-08-04T15:36:25.021869Z",
     "start_time": "2020-08-04T15:36:21.926Z"
    }
   },
   "outputs": [],
   "source": [
    "not True"
   ]
  },
  {
   "cell_type": "code",
   "execution_count": null,
   "metadata": {
    "ExecuteTime": {
     "end_time": "2020-08-04T15:36:25.022344Z",
     "start_time": "2020-08-04T15:36:21.930Z"
    }
   },
   "outputs": [],
   "source": [
    "not False"
   ]
  },
  {
   "cell_type": "code",
   "execution_count": null,
   "metadata": {
    "ExecuteTime": {
     "end_time": "2020-08-04T15:36:25.022877Z",
     "start_time": "2020-08-04T15:36:21.934Z"
    }
   },
   "outputs": [],
   "source": [
    "not 1 == 1"
   ]
  },
  {
   "cell_type": "markdown",
   "metadata": {},
   "source": [
    "```not 1 == 1``` 跟 ```1 != 1``` 效果相同"
   ]
  },
  {
   "cell_type": "markdown",
   "metadata": {},
   "source": [
    "試試看，透過更改邏輯運算子 與 對應的字串<br>\n",
    "把下面程式碼改成打印 True"
   ]
  },
  {
   "cell_type": "code",
   "execution_count": null,
   "metadata": {
    "ExecuteTime": {
     "end_time": "2020-08-04T15:36:25.023494Z",
     "start_time": "2020-08-04T15:36:21.938Z"
    },
    "scrolled": true
   },
   "outputs": [],
   "source": [
    "input_text = \"False\"\n",
    "print(input_text == False)"
   ]
  },
  {
   "cell_type": "markdown",
   "metadata": {},
   "source": [
    "# 邏輯運算子 2\n",
    "<img src=\"https://i.imgur.com/SgWWIPB.png\" width=\"400\" height=\"400\" style=\"float:left;\"/>"
   ]
  },
  {
   "cell_type": "code",
   "execution_count": null,
   "metadata": {
    "ExecuteTime": {
     "end_time": "2020-08-04T15:36:25.024022Z",
     "start_time": "2020-08-04T15:36:21.942Z"
    }
   },
   "outputs": [],
   "source": [
    "1 > 0"
   ]
  },
  {
   "cell_type": "code",
   "execution_count": null,
   "metadata": {
    "ExecuteTime": {
     "end_time": "2020-08-04T15:36:25.024643Z",
     "start_time": "2020-08-04T15:36:21.944Z"
    }
   },
   "outputs": [],
   "source": [
    "2 > 1"
   ]
  },
  {
   "cell_type": "code",
   "execution_count": null,
   "metadata": {
    "ExecuteTime": {
     "end_time": "2020-08-04T15:36:25.025202Z",
     "start_time": "2020-08-04T15:36:21.947Z"
    }
   },
   "outputs": [],
   "source": [
    "0 > 1"
   ]
  },
  {
   "cell_type": "code",
   "execution_count": null,
   "metadata": {
    "ExecuteTime": {
     "end_time": "2020-08-04T15:36:25.025812Z",
     "start_time": "2020-08-04T15:36:21.950Z"
    }
   },
   "outputs": [],
   "source": [
    "1 < 0"
   ]
  },
  {
   "cell_type": "code",
   "execution_count": null,
   "metadata": {
    "ExecuteTime": {
     "end_time": "2020-08-04T15:36:25.026397Z",
     "start_time": "2020-08-04T15:36:21.952Z"
    }
   },
   "outputs": [],
   "source": [
    "2 < 1"
   ]
  },
  {
   "cell_type": "code",
   "execution_count": null,
   "metadata": {
    "ExecuteTime": {
     "end_time": "2020-08-04T15:36:25.026908Z",
     "start_time": "2020-08-04T15:36:21.955Z"
    }
   },
   "outputs": [],
   "source": [
    "1 < 1"
   ]
  },
  {
   "cell_type": "code",
   "execution_count": null,
   "metadata": {
    "ExecuteTime": {
     "end_time": "2020-08-04T15:36:25.027478Z",
     "start_time": "2020-08-04T15:36:21.958Z"
    }
   },
   "outputs": [],
   "source": [
    "0 < 1"
   ]
  },
  {
   "cell_type": "markdown",
   "metadata": {},
   "source": [
    "也可以使用浮點數比較"
   ]
  },
  {
   "cell_type": "code",
   "execution_count": null,
   "metadata": {
    "ExecuteTime": {
     "end_time": "2020-08-04T15:36:25.028109Z",
     "start_time": "2020-08-04T15:36:21.962Z"
    }
   },
   "outputs": [],
   "source": [
    "0.9 < 1"
   ]
  },
  {
   "cell_type": "markdown",
   "metadata": {},
   "source": [
    "不支援字串與數字之間的比大小"
   ]
  },
  {
   "cell_type": "code",
   "execution_count": null,
   "metadata": {
    "ExecuteTime": {
     "end_time": "2020-08-04T15:36:25.028693Z",
     "start_time": "2020-08-04T15:36:21.967Z"
    }
   },
   "outputs": [],
   "source": [
    "\"0.9\" < 1"
   ]
  },
  {
   "cell_type": "markdown",
   "metadata": {},
   "source": [
    "但也可以使用字串直接比較"
   ]
  },
  {
   "cell_type": "code",
   "execution_count": null,
   "metadata": {
    "ExecuteTime": {
     "end_time": "2020-08-04T15:36:25.029277Z",
     "start_time": "2020-08-04T15:36:21.969Z"
    }
   },
   "outputs": [],
   "source": [
    "\"1\" < \"2\""
   ]
  },
  {
   "cell_type": "code",
   "execution_count": null,
   "metadata": {
    "ExecuteTime": {
     "end_time": "2020-08-04T15:36:25.029768Z",
     "start_time": "2020-08-04T15:36:21.972Z"
    }
   },
   "outputs": [],
   "source": [
    "\"我\" > \"你\""
   ]
  },
  {
   "cell_type": "markdown",
   "metadata": {},
   "source": [
    "補充：<br>\n",
    "也可以做英文字串之間的比較<br>\n",
    "這是因為每個字母有順序上的大小關係<br>\n",
    "A 是 1，Z 是 26<br><br>\n",
    "因此可以做字串之間的比較<br>\n",
    "規則是第一位數比較完後，比較第二位數<br>"
   ]
  },
  {
   "cell_type": "code",
   "execution_count": null,
   "metadata": {
    "ExecuteTime": {
     "end_time": "2020-08-04T15:36:25.030357Z",
     "start_time": "2020-08-04T15:36:21.975Z"
    }
   },
   "outputs": [],
   "source": [
    "\"A\" < \"Z\""
   ]
  },
  {
   "cell_type": "code",
   "execution_count": null,
   "metadata": {
    "ExecuteTime": {
     "end_time": "2020-08-04T15:36:25.030936Z",
     "start_time": "2020-08-04T15:36:21.977Z"
    }
   },
   "outputs": [],
   "source": [
    "\"A\" > \"Z\""
   ]
  },
  {
   "cell_type": "code",
   "execution_count": null,
   "metadata": {
    "ExecuteTime": {
     "end_time": "2020-08-04T15:36:25.031545Z",
     "start_time": "2020-08-04T15:36:21.979Z"
    }
   },
   "outputs": [],
   "source": [
    "\"Aa\" < \"Az\""
   ]
  },
  {
   "cell_type": "code",
   "execution_count": null,
   "metadata": {
    "ExecuteTime": {
     "end_time": "2020-08-04T15:36:25.032121Z",
     "start_time": "2020-08-04T15:36:21.982Z"
    }
   },
   "outputs": [],
   "source": [
    "\"Aa\" > \"Az\""
   ]
  },
  {
   "cell_type": "markdown",
   "metadata": {},
   "source": [
    "# 邏輯運算子 2\n",
    "<img src=\"https://i.imgur.com/L9v3hZt.png\" width=\"400\" height=\"400\" style=\"float:left;\"/>"
   ]
  },
  {
   "cell_type": "markdown",
   "metadata": {},
   "source": [
    "### and"
   ]
  },
  {
   "cell_type": "code",
   "execution_count": null,
   "metadata": {
    "ExecuteTime": {
     "end_time": "2020-08-04T15:36:25.032667Z",
     "start_time": "2020-08-04T15:36:21.987Z"
    }
   },
   "outputs": [],
   "source": [
    "True and True"
   ]
  },
  {
   "cell_type": "code",
   "execution_count": null,
   "metadata": {
    "ExecuteTime": {
     "end_time": "2020-08-04T15:36:25.033250Z",
     "start_time": "2020-08-04T15:36:21.992Z"
    }
   },
   "outputs": [],
   "source": [
    "True and False"
   ]
  },
  {
   "cell_type": "code",
   "execution_count": null,
   "metadata": {
    "ExecuteTime": {
     "end_time": "2020-08-04T15:36:25.033821Z",
     "start_time": "2020-08-04T15:36:21.996Z"
    }
   },
   "outputs": [],
   "source": [
    "False and False"
   ]
  },
  {
   "cell_type": "markdown",
   "metadata": {},
   "source": [
    "### or"
   ]
  },
  {
   "cell_type": "code",
   "execution_count": null,
   "metadata": {
    "ExecuteTime": {
     "end_time": "2020-08-04T15:36:25.034394Z",
     "start_time": "2020-08-04T15:36:21.999Z"
    }
   },
   "outputs": [],
   "source": [
    "True or True"
   ]
  },
  {
   "cell_type": "code",
   "execution_count": null,
   "metadata": {
    "ExecuteTime": {
     "end_time": "2020-08-04T15:36:25.035000Z",
     "start_time": "2020-08-04T15:36:22.001Z"
    }
   },
   "outputs": [],
   "source": [
    "True or False"
   ]
  },
  {
   "cell_type": "code",
   "execution_count": null,
   "metadata": {
    "ExecuteTime": {
     "end_time": "2020-08-04T15:36:25.035574Z",
     "start_time": "2020-08-04T15:36:22.003Z"
    }
   },
   "outputs": [],
   "source": [
    "False or True"
   ]
  },
  {
   "cell_type": "code",
   "execution_count": null,
   "metadata": {
    "ExecuteTime": {
     "end_time": "2020-08-04T15:36:25.036147Z",
     "start_time": "2020-08-04T15:36:22.006Z"
    }
   },
   "outputs": [],
   "source": [
    "False or False"
   ]
  },
  {
   "cell_type": "markdown",
   "metadata": {},
   "source": [
    "### in"
   ]
  },
  {
   "cell_type": "code",
   "execution_count": null,
   "metadata": {
    "ExecuteTime": {
     "end_time": "2020-08-04T15:36:25.036690Z",
     "start_time": "2020-08-04T15:36:22.009Z"
    }
   },
   "outputs": [],
   "source": [
    "\"a\" in \"Eason\""
   ]
  },
  {
   "cell_type": "code",
   "execution_count": null,
   "metadata": {
    "ExecuteTime": {
     "end_time": "2020-08-04T15:36:25.037199Z",
     "start_time": "2020-08-04T15:36:22.011Z"
    }
   },
   "outputs": [],
   "source": [
    "\"k\" in \"Eason\""
   ]
  },
  {
   "cell_type": "markdown",
   "metadata": {
    "colab_type": "text",
    "id": "VERw5wQYw7af"
   },
   "source": [
    "# 條件判斷"
   ]
  },
  {
   "cell_type": "markdown",
   "metadata": {},
   "source": [
    "可以描述為：<br>\n",
    "`如果你...，我就要...，不然就...`"
   ]
  },
  {
   "cell_type": "markdown",
   "metadata": {},
   "source": [
    "考考你，下方程式碼少了什麼，所以無法順利運作？"
   ]
  },
  {
   "cell_type": "code",
   "execution_count": null,
   "metadata": {
    "ExecuteTime": {
     "end_time": "2020-08-04T15:36:25.037683Z",
     "start_time": "2020-08-04T15:36:22.017Z"
    }
   },
   "outputs": [],
   "source": [
    "#如果 luckyNum 是 777，就說「齁777」\n",
    "#不然就說「好喔~」\n",
    "luckyNum = input(\"你的幸運數字是多少？ >> \")\n",
    "if luckyNum == 777:\n",
    "    print(\"齁777\")\n",
    "else:\n",
    "    print(\"好喔～\")"
   ]
  },
  {
   "cell_type": "markdown",
   "metadata": {},
   "source": [
    "---\n",
    "---"
   ]
  },
  {
   "cell_type": "code",
   "execution_count": null,
   "metadata": {
    "ExecuteTime": {
     "end_time": "2020-08-04T15:36:25.038240Z",
     "start_time": "2020-08-04T15:36:22.020Z"
    }
   },
   "outputs": [],
   "source": [
    "#正確程式碼版本\n",
    "luckyNum = input(\"你的幸運數字是多少？ >> \")\n",
    "luckyNum = int(luckyNum)\n",
    "if luckyNum == 777:\n",
    "    print(\"齁777\")\n",
    "else:\n",
    "    print(\"好喔～\")"
   ]
  },
  {
   "cell_type": "code",
   "execution_count": null,
   "metadata": {
    "ExecuteTime": {
     "end_time": "2020-08-04T15:36:25.038836Z",
     "start_time": "2020-08-04T15:36:22.023Z"
    }
   },
   "outputs": [],
   "source": [
    "#或者你也可以這樣寫\n",
    "luckyNum = input(\"你的幸運數字是多少？ >> \")\n",
    "if luckyNum == \"777\":\n",
    "    print(\"齁～ 777\")\n",
    "else:\n",
    "    print(\"好喔～\")"
   ]
  },
  {
   "cell_type": "markdown",
   "metadata": {},
   "source": [
    "這樣寫，還可以判斷是不是有七在裡面<br>\n",
    "\n",
    "`\n",
    "如果 luckyNum 是 777，就說「齁777」，\n",
    "不然，如果 luckyNum 包含 7，就說「有 7！太棒了！」\n",
    "不然就說「好喔～」。\n",
    "`"
   ]
  },
  {
   "cell_type": "code",
   "execution_count": null,
   "metadata": {
    "ExecuteTime": {
     "end_time": "2020-08-04T15:36:25.039357Z",
     "start_time": "2020-08-04T15:36:22.027Z"
    }
   },
   "outputs": [],
   "source": [
    "#或者你也可以這樣寫\n",
    "luckyNum = input(\"你的幸運數字是多少？ >> \")\n",
    "if luckyNum == \"777\":\n",
    "    print(\"齁～ 777\")\n",
    "elif \"7\" in luckyNum:\n",
    "    print(\"有 7！太棒了！\")\n",
    "else:\n",
    "    print(\"好喔～\")"
   ]
  },
  {
   "cell_type": "markdown",
   "metadata": {},
   "source": [
    "冷知識，有的 AI 其實就是一堆 if 埋在裡面而已\n",
    "\n",
    "<img src=\"https://i.imgur.com/hQMFizE.jpg\" width=\"400\" height=\"300\" style=\"float:left;\"/>"
   ]
  },
  {
   "cell_type": "markdown",
   "metadata": {},
   "source": [
    "# 自由發揮時間：\n",
    "參考上面的程式碼<br>\n",
    "打造一個根據不同內容產生不同輸出的程式吧！(3 min)<br><br>\n",
    "（這個時段中，如果有問題想問，不知道想做的功能怎麼做，歡迎舉手問老師）\n",
    "<br>"
   ]
  },
  {
   "cell_type": "code",
   "execution_count": null,
   "metadata": {},
   "outputs": [],
   "source": []
  },
  {
   "cell_type": "markdown",
   "metadata": {},
   "source": [
    "# 加減乘除"
   ]
  },
  {
   "cell_type": "code",
   "execution_count": null,
   "metadata": {
    "ExecuteTime": {
     "end_time": "2020-08-04T15:36:25.039869Z",
     "start_time": "2020-08-04T15:36:22.034Z"
    }
   },
   "outputs": [],
   "source": [
    "#加法\n",
    "1+1"
   ]
  },
  {
   "cell_type": "code",
   "execution_count": null,
   "metadata": {
    "ExecuteTime": {
     "end_time": "2020-08-04T15:36:25.040345Z",
     "start_time": "2020-08-04T15:36:22.036Z"
    }
   },
   "outputs": [],
   "source": [
    "#減法\n",
    "2-1"
   ]
  },
  {
   "cell_type": "code",
   "execution_count": null,
   "metadata": {
    "ExecuteTime": {
     "end_time": "2020-08-04T15:36:25.040880Z",
     "start_time": "2020-08-04T15:36:22.041Z"
    }
   },
   "outputs": [],
   "source": [
    "#乘法\n",
    "2*2"
   ]
  },
  {
   "cell_type": "code",
   "execution_count": null,
   "metadata": {
    "ExecuteTime": {
     "end_time": "2020-08-04T15:36:25.041375Z",
     "start_time": "2020-08-04T15:36:22.043Z"
    }
   },
   "outputs": [],
   "source": [
    "#除法\n",
    "#結果會是浮點數\n",
    "9/3"
   ]
  },
  {
   "cell_type": "code",
   "execution_count": null,
   "metadata": {
    "ExecuteTime": {
     "end_time": "2020-08-04T15:36:25.041890Z",
     "start_time": "2020-08-04T15:36:22.046Z"
    }
   },
   "outputs": [],
   "source": [
    "# 次方\n",
    "# 2 的三次方，是 8\n",
    "2**3"
   ]
  },
  {
   "cell_type": "markdown",
   "metadata": {},
   "source": [
    "字串的加減乘除"
   ]
  },
  {
   "cell_type": "code",
   "execution_count": null,
   "metadata": {
    "ExecuteTime": {
     "end_time": "2020-08-04T15:36:25.042383Z",
     "start_time": "2020-08-04T15:36:22.049Z"
    }
   },
   "outputs": [],
   "source": [
    "#字串相加，會相連接\n",
    "\"靜心\"+\"高中\""
   ]
  },
  {
   "cell_type": "code",
   "execution_count": null,
   "metadata": {
    "ExecuteTime": {
     "end_time": "2020-08-04T15:36:25.042948Z",
     "start_time": "2020-08-04T15:36:22.052Z"
    }
   },
   "outputs": [],
   "source": [
    "#字串乘法，會變成兩倍\n",
    "\"歐齁～\"*2"
   ]
  },
  {
   "cell_type": "code",
   "execution_count": null,
   "metadata": {
    "ExecuteTime": {
     "end_time": "2020-08-04T15:36:25.043544Z",
     "start_time": "2020-08-04T15:36:22.056Z"
    }
   },
   "outputs": [],
   "source": [
    "# 字串除法，無法做\n",
    "# unsupported 翻譯為 不支援\n",
    "\"111\"/3"
   ]
  },
  {
   "cell_type": "markdown",
   "metadata": {},
   "source": [
    "# 回家練習：計算機\n",
    "支持加減乘除的 Python 計算機\n",
    "1. 輸入數字一\n",
    "2. 輸入兩個數字的關係（加減乘除符號）\n",
    "3. 輸入數字二\n",
    "4. 輸出運算結果"
   ]
  },
  {
   "cell_type": "code",
   "execution_count": null,
   "metadata": {},
   "outputs": [],
   "source": []
  },
  {
   "cell_type": "code",
   "execution_count": null,
   "metadata": {},
   "outputs": [],
   "source": []
  },
  {
   "cell_type": "markdown",
   "metadata": {
    "colab_type": "text",
    "id": "e4-moG4yw7ag"
   },
   "source": [
    "# 迴圈"
   ]
  },
  {
   "cell_type": "markdown",
   "metadata": {
    "colab_type": "text",
    "id": "9Yu4iPHhw7ag"
   },
   "source": [
    "## While 迴圈\n",
    "### 緊急脫離！請按下 停止符號"
   ]
  },
  {
   "cell_type": "code",
   "execution_count": null,
   "metadata": {
    "ExecuteTime": {
     "end_time": "2020-08-04T15:36:25.044126Z",
     "start_time": "2020-08-04T15:36:22.697Z"
    },
    "colab": {},
    "colab_type": "code",
    "id": "83oOyExew7ah",
    "outputId": "82342f6b-0726-4f6b-9ab2-1b6a834b9239"
   },
   "outputs": [],
   "source": [
    "while True:\n",
    "    print(\"Hi\")"
   ]
  },
  {
   "cell_type": "markdown",
   "metadata": {},
   "source": [
    "### break 介紹\n",
    "脫離迴圈！！"
   ]
  },
  {
   "cell_type": "markdown",
   "metadata": {},
   "source": [
    "說出來的數字包含 7 ，就脫離迴圈<br>\n",
    "不然就再問一次"
   ]
  },
  {
   "cell_type": "code",
   "execution_count": null,
   "metadata": {
    "ExecuteTime": {
     "end_time": "2020-08-04T15:36:25.044685Z",
     "start_time": "2020-08-04T15:36:22.702Z"
    }
   },
   "outputs": [],
   "source": [
    "while True:\n",
    "    num = input(\"說一個數字 >> \")\n",
    "    if \"7\" in num:\n",
    "        print(\"欸！你說到我喜歡的數字了！\")\n",
    "        break\n",
    "        \n",
    "    print(\"嗯哼～\")\n",
    "    \n",
    "print(\"掰掰\")"
   ]
  },
  {
   "cell_type": "markdown",
   "metadata": {},
   "source": [
    "# 回家作業： 猜數字遊戲"
   ]
  },
  {
   "cell_type": "markdown",
   "metadata": {},
   "source": [
    "系統會隨機生成一個數字做為答案<br>\n",
    "\n",
    "如果你輸入的數字大於答案，則 提示「太大了」<br>\n",
    "如果輸入的數字小於答案，則 提示「太小了」<br>\n",
    "如果輸入的數字等於答案，則回傳「恭喜你答對了！」，並退出遊戲<br>\n",
    "如果輸入「q」，則退出遊戲，並公佈答案\n",
    "\n",
    "額外作業 1 （挑戰）：<br>\n",
    "可以計算使用者花多少次數猜，並在退出遊戲時告知使用者\n",
    "\n",
    "額外作業 2 （挑戰）：<br>\n",
    "限定回合數，每次猜，會告訴使用者他還有幾次機會<br>\n",
    "(EX: 你猜的太大了，你還有 5 次機會可以猜）<br>\n",
    "機會沒了，就退出遊戲並公佈答案"
   ]
  },
  {
   "cell_type": "code",
   "execution_count": null,
   "metadata": {
    "ExecuteTime": {
     "end_time": "2020-08-04T15:36:25.045247Z",
     "start_time": "2020-08-04T15:36:22.705Z"
    }
   },
   "outputs": [],
   "source": [
    "#隨機產生一個 1 到 100 間的整數，包含 1 跟 100\n",
    "#這個步驟的意義，下次會教，可以先複製照做\n",
    "\n",
    "import random\n",
    "random.randint(1, 100)"
   ]
  },
  {
   "cell_type": "code",
   "execution_count": null,
   "metadata": {
    "ExecuteTime": {
     "end_time": "2020-08-04T13:37:56.302749Z",
     "start_time": "2020-08-04T13:37:56.297614Z"
    }
   },
   "outputs": [],
   "source": []
  },
  {
   "cell_type": "code",
   "execution_count": null,
   "metadata": {},
   "outputs": [],
   "source": []
  },
  {
   "cell_type": "markdown",
   "metadata": {},
   "source": [
    "如果可以，建議從零開始打<br>\n",
    "如果不知道要怎麼做，可以參考下方的程式碼"
   ]
  },
  {
   "cell_type": "code",
   "execution_count": null,
   "metadata": {
    "ExecuteTime": {
     "end_time": "2020-08-04T15:36:25.046299Z",
     "start_time": "2020-08-04T15:36:22.723Z"
    }
   },
   "outputs": [],
   "source": [
    "#參考程式碼\n",
    "import random\n",
    "answer = random.randint(1, 100)\n",
    "answer = str(answer)\n",
    "answer = \"58\"\n",
    "while True:\n",
    "    guess = input(\"猜一個數字 >> \")\n",
    "    #你的判斷式在此"
   ]
  },
  {
   "cell_type": "markdown",
   "metadata": {
    "colab_type": "text",
    "id": "BwDrigBkw7ap"
   },
   "source": [
    "## For 迴圈"
   ]
  },
  {
   "cell_type": "markdown",
   "metadata": {},
   "source": [
    "有限次數的回圈"
   ]
  },
  {
   "cell_type": "code",
   "execution_count": 4,
   "metadata": {
    "ExecuteTime": {
     "end_time": "2020-08-04T15:38:31.732390Z",
     "start_time": "2020-08-04T15:38:31.726879Z"
    },
    "colab": {},
    "colab_type": "code",
    "id": "eq2S3vh0w7aq"
   },
   "outputs": [
    {
     "name": "stdout",
     "output_type": "stream",
     "text": [
      "0\n",
      "1\n",
      "2\n",
      "3\n",
      "4\n",
      "5\n",
      "6\n",
      "7\n"
     ]
    }
   ],
   "source": [
    "# 執行 8 次\n",
    "for i in range(8):\n",
    "    print(i)"
   ]
  },
  {
   "cell_type": "code",
   "execution_count": null,
   "metadata": {
    "colab": {},
    "colab_type": "code",
    "id": "gY4oIXtLw7as"
   },
   "outputs": [],
   "source": []
  },
  {
   "cell_type": "code",
   "execution_count": null,
   "metadata": {
    "colab": {},
    "colab_type": "code",
    "id": "GtOxnsUPw7av"
   },
   "outputs": [],
   "source": []
  },
  {
   "cell_type": "code",
   "execution_count": null,
   "metadata": {
    "colab": {},
    "colab_type": "code",
    "id": "54xU7bDYw7ay"
   },
   "outputs": [],
   "source": []
  }
 ],
 "metadata": {
  "colab": {
   "collapsed_sections": [],
   "name": "0805_靜心高中社團課.ipynb",
   "provenance": []
  },
  "hide_input": false,
  "kernelspec": {
   "display_name": "Python 3",
   "language": "python",
   "name": "python3"
  },
  "language_info": {
   "codemirror_mode": {
    "name": "ipython",
    "version": 3
   },
   "file_extension": ".py",
   "mimetype": "text/x-python",
   "name": "python",
   "nbconvert_exporter": "python",
   "pygments_lexer": "ipython3",
   "version": "3.7.4"
  },
  "varInspector": {
   "cols": {
    "lenName": 16,
    "lenType": 16,
    "lenVar": 40
   },
   "kernels_config": {
    "python": {
     "delete_cmd_postfix": "",
     "delete_cmd_prefix": "del ",
     "library": "var_list.py",
     "varRefreshCmd": "print(var_dic_list())"
    },
    "r": {
     "delete_cmd_postfix": ") ",
     "delete_cmd_prefix": "rm(",
     "library": "var_list.r",
     "varRefreshCmd": "cat(var_dic_list()) "
    }
   },
   "types_to_exclude": [
    "module",
    "function",
    "builtin_function_or_method",
    "instance",
    "_Feature"
   ],
   "window_display": false
  }
 },
 "nbformat": 4,
 "nbformat_minor": 1
}
